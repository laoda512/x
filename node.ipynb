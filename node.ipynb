{
 "cells": [
  {
   "cell_type": "code",
   "execution_count": 3,
   "metadata": {},
   "outputs": [
    {
     "name": "stdout",
     "output_type": "stream",
     "text": [
      "key_load_public: invalid format\n",
      "Welcome to Ubuntu 16.04.1 LTS (GNU/Linux 4.4.0-91-generic x86_64)\n",
      "\n",
      " * Documentation:  https://help.ubuntu.com\n",
      " * Management:     https://landscape.canonical.com\n",
      " * Support:        https://ubuntu.com/advantage\n",
      "\n",
      "*** System restart required ***\n",
      "Last login: Mon Mar 26 07:16:57 2018 from 207.216.108.7\n",
      "\u001b]0;ubuntu@VM-229-235-ubuntu: ~\u0007\u001b[01;32mubuntu@VM-229-235-ubuntu\u001b[00m:\u001b[01;34m~\u001b[00m$ pwd ; exit;\n",
      "/home/ubuntu\n",
      "logout\n",
      "Connection to 123.207.221.180 closed.\n"
     ]
    }
   ],
   "source": [
    "!echo \"pwd ; \\\n",
    "exit;\\\n",
    "\"|ssh -tti holygg ubuntu@123.207.221.180 "
   ]
  },
  {
   "cell_type": "code",
   "execution_count": 2,
   "metadata": {},
   "outputs": [
    {
     "name": "stdout",
     "output_type": "stream",
     "text": [
      ".DS_Store                                     100%   16KB  16.0KB/s   00:00    \n",
      "COMMIT_EDITMSG                                100%   17     0.0KB/s   00:00    \n",
      "config                                        100%  303     0.3KB/s   00:00    \n",
      "description                                   100%   73     0.1KB/s   00:00    \n",
      "FETCH_HEAD                                    100%   91     0.1KB/s   00:00    \n",
      "HEAD                                          100%   23     0.0KB/s   00:00    \n",
      "applypatch-msg.sample                         100%  452     0.4KB/s   00:00    \n",
      "commit-msg.sample                             100%  896     0.9KB/s   00:00    \n",
      "post-update.sample                            100%  189     0.2KB/s   00:00    \n",
      "pre-applypatch.sample                         100%  398     0.4KB/s   00:00    \n",
      "pre-commit.sample                             100% 1642     1.6KB/s   00:00    \n",
      "pre-push.sample                               100% 1348     1.3KB/s   00:00    \n",
      "^C\n",
      "Killed by signal 2.\n"
     ]
    }
   ],
   "source": [
    "!scp -r -i holygg . ubuntu@123.207.221.180:."
   ]
  },
  {
   "cell_type": "code",
   "execution_count": 70,
   "metadata": {},
   "outputs": [
    {
     "name": "stdout",
     "output_type": "stream",
     "text": [
      "sending incremental file list\n",
      ".git/\n",
      ".idea/workspace.xml\n",
      "         46,167 100%   43.36MB/s    0:00:00 (xfr#1, to-chk=40/404)\n",
      "src/\n",
      "src/petDemo.js\n",
      "          1,874 100%    1.79MB/s    0:00:00 (xfr#2, to-chk=17/404)\n",
      "\n",
      "sent 15,029 bytes  received 639 bytes  1,160.59 bytes/sec\n",
      "total size is 786,976,231  speedup is 50,228.25\n"
     ]
    }
   ],
   "source": [
    "!rsync -Pavu --exclude node_storage --exclude node_modules -e \"ssh -i ./holygg\" . ubuntu@123.207.221.180:~/node"
   ]
  },
  {
   "cell_type": "code",
   "execution_count": 19,
   "metadata": {},
   "outputs": [
    {
     "name": "stdout",
     "output_type": "stream",
     "text": [
      "Warning: Identity file /Users/cwang/temp/holygg not accessible: No such file or directory.\n",
      "ubuntu@123.207.221.180's password: \n"
     ]
    }
   ],
   "source": [
    "!echo \"pwd ; \\\n",
    "cd node ;\\\n",
    "sudo apt-get -y install nodejs ;\\\n",
    "sudo apt -y install npm ;\\\n",
    "sudo make init ;\\\n",
    "exit;\\\n",
    "\"|ssh -tti /Users/cwang/temp/holygg ubuntu@123.207.221.180 "
   ]
  },
  {
   "cell_type": "code",
   "execution_count": 25,
   "metadata": {},
   "outputs": [
    {
     "name": "stdout",
     "output_type": "stream",
     "text": [
      "Welcome to Ubuntu 16.04.1 LTS (GNU/Linux 4.4.0-91-generic x86_64)\n",
      "\n",
      " * Documentation:  https://help.ubuntu.com\n",
      " * Management:     https://landscape.canonical.com\n",
      " * Support:        https://ubuntu.com/advantage\n",
      "\n",
      "*** System restart required ***\n",
      "Last login: Tue Mar 20 09:58:47 2018 from 207.216.108.7\n",
      "\u001b]0;ubuntu@VM-229-235-ubuntu: ~\u0007\u001b[01;32mubuntu@VM-229-235-ubuntu\u001b[00m:\u001b[01;34m~\u001b[00m$ pwd ; cd node ;sudo make start_redis ;exit;\n",
      "/home/ubuntu\n",
      "docker run  --rm \\\n",
      "-p 6379:6379 \\\n",
      "-v /home/ubuntu/node/node_storage/redis:/data \\\n",
      "-v /home/ubuntu/node/redis.conf:/usr/local/etc/redis/redis.conf \\\n",
      "--name redis1 redis \\\n",
      "redis-server /usr/local/etc/redis/redis.conf &>> redis_log\n",
      "logout\n",
      "Connection to 123.207.221.180 closed.\n"
     ]
    }
   ],
   "source": [
    "!echo \"pwd ; \\\n",
    "cd node ;\\\n",
    "sudo make start_redis ;\\\n",
    "exit;\\\n",
    "\"|ssh -tti /Users/cwang/temp/holygg ubuntu@123.207.221.180 "
   ]
  },
  {
   "cell_type": "code",
   "execution_count": 29,
   "metadata": {
    "scrolled": true
   },
   "outputs": [
    {
     "name": "stdout",
     "output_type": "stream",
     "text": [
      "Welcome to Ubuntu 16.04.1 LTS (GNU/Linux 4.4.0-91-generic x86_64)\n",
      "\n",
      " * Documentation:  https://help.ubuntu.com\n",
      " * Management:     https://landscape.canonical.com\n",
      " * Support:        https://ubuntu.com/advantage\n",
      "\n",
      "*** System restart required ***\n",
      "Last login: Tue Mar 20 11:32:53 2018 from 207.216.108.7\n",
      "\u001b[A;ubuntu@VM-229-235-ubuntu: ~\u0007\u001b[01;32mubuntu@VM-229-235-ubuntu\u001b[00m:\u001b[01;34m~\u001b[00m$ pwd ; ls ;cd node;sudo forever start server.js;exit; \n",
      "/home/ubuntu\n",
      "\u001b[0m\u001b[01;34mangel\u001b[0m  \u001b[01;32mdocker-compose\u001b[0m   ignite-docker-compose.yml  \u001b[01;34mnode\u001b[0m\n",
      "\u001b[01;34mdata\u001b[0m   \u001b[01;32mdocker-compose1\u001b[0m  \u001b[01;31mio.tar.gz\u001b[0m\n",
      "\u001b[33mwarn\u001b[39m:    --minUptime not set. Defaulting to: 1000ms\n",
      "\u001b[33mwarn\u001b[39m:    --spinSleepTime not set. Your script will exit if it does not stay up for at least 1000ms\n",
      "\u001b[32minfo\u001b[39m:    Forever processing file: \u001b[90mserver.js\u001b[39m\n",
      "logout\n",
      "Connection to 123.207.221.180 closed.\n"
     ]
    }
   ],
   "source": [
    "!echo \"pwd ; \\\n",
    "ls ;\\\n",
    "cd node;\\\n",
    "sudo forever start server.js;\\\n",
    "exit;\\\n",
    "\"|ssh -tti /Users/cwang/temp/holygg ubuntu@123.207.221.180 "
   ]
  },
  {
   "cell_type": "code",
   "execution_count": 53,
   "metadata": {},
   "outputs": [
    {
     "name": "stdout",
     "output_type": "stream",
     "text": [
      "Welcome to Ubuntu 16.04.1 LTS (GNU/Linux 4.4.0-91-generic x86_64)\n",
      "\n",
      " * Documentation:  https://help.ubuntu.com\n",
      " * Management:     https://landscape.canonical.com\n",
      " * Support:        https://ubuntu.com/advantage\n",
      "\n",
      "*** System restart required ***\n",
      "Last login: Wed Mar 21 08:23:20 2018 from 70.36.63.98\n",
      "\u001b]0;ubuntu@VM-229-235-ubuntu: ~\u0007\u001b[01;32mubuntu@VM-229-235-ubuntu\u001b[00m:\u001b[01;34m~\u001b[00m$ pwd ; ls ;cd node;sudo forever stopall ;exit;\n",
      "/home/ubuntu\n",
      "\u001b[0m\u001b[01;34mangel\u001b[0m  \u001b[01;32mdocker-compose\u001b[0m   ignite-docker-compose.yml  \u001b[01;34mnode\u001b[0m\n",
      "\u001b[01;34mdata\u001b[0m   \u001b[01;32mdocker-compose1\u001b[0m  \u001b[01;31mio.tar.gz\u001b[0m\n",
      "\u001b[32minfo\u001b[39m:    No forever processes running\n",
      "logout\n",
      "Connection to 123.207.221.180 closed.\n"
     ]
    }
   ],
   "source": [
    "!echo \"pwd ; \\\n",
    "ls ;\\\n",
    "cd node;\\\n",
    "sudo forever stopall ;\\\n",
    "exit;\\\n",
    "\"|ssh -tti /Users/cwang/temp/holygg ubuntu@123.207.221.180 "
   ]
  },
  {
   "cell_type": "code",
   "execution_count": 45,
   "metadata": {
    "scrolled": true
   },
   "outputs": [
    {
     "name": "stdout",
     "output_type": "stream",
     "text": [
      "Welcome to Ubuntu 16.04.1 LTS (GNU/Linux 4.4.0-91-generic x86_64)\n",
      "\n",
      " * Documentation:  https://help.ubuntu.com\n",
      " * Management:     https://landscape.canonical.com\n",
      " * Support:        https://ubuntu.com/advantage\n",
      "\n",
      "*** System restart required ***\n",
      "Last login: Wed Mar 21 00:57:03 2018 from 70.36.63.98\n",
      "og -o out.log -e er35-ubuntu: ~\u0007\u001b[01;32mubuntu@VM-229-235-ubuntu\u001b[00m:\u001b[01;34m~\u001b[00m$ pwd ; ls ;cd node;sudo forever start -a -l forever.l r.log server.js ;exit;\n",
      "/home/ubuntu\n",
      "\u001b[0m\u001b[01;34mangel\u001b[0m  \u001b[01;32mdocker-compose\u001b[0m   ignite-docker-compose.yml  \u001b[01;34mnode\u001b[0m\n",
      "\u001b[01;34mdata\u001b[0m   \u001b[01;32mdocker-compose1\u001b[0m  \u001b[01;31mio.tar.gz\u001b[0m\n",
      "\u001b[33mwarn\u001b[39m:    --minUptime not set. Defaulting to: 1000ms\n",
      "\u001b[33mwarn\u001b[39m:    --spinSleepTime not set. Your script will exit if it does not stay up for at least 1000ms\n",
      "\u001b[32minfo\u001b[39m:    Forever processing file: \u001b[90mserver.js\u001b[39m\n",
      "logout\n",
      "Connection to 123.207.221.180 closed.\n"
     ]
    }
   ],
   "source": [
    "!echo \"pwd ; \\\n",
    "ls ;\\\n",
    "cd node;\\\n",
    "sudo forever start -a -l forever.log -o out.log -e err.log server.js ;\\\n",
    "exit;\\\n",
    "\"|ssh -tti /Users/cwang/temp/holygg ubuntu@123.207.221.180 "
   ]
  },
  {
   "cell_type": "code",
   "execution_count": 48,
   "metadata": {},
   "outputs": [
    {
     "name": "stdout",
     "output_type": "stream",
     "text": [
      "{\"errcode\":40001,\"errmsg\":\"invalid credential, access_token is invalid or not latest hint: [EBLUGa0131k610!]\"}"
     ]
    }
   ],
   "source": [
    "!curl -F media=test.png \"https://api.weixin.qq.com/cgi-bin/media/uploadimg?access_token=oj3bmyaxodgrxdkimbbohhgb2j1kfrgs\"\n",
    "\n"
   ]
  },
  {
   "cell_type": "code",
   "execution_count": 10,
   "metadata": {
    "scrolled": true
   },
   "outputs": [
    {
     "name": "stdout",
     "output_type": "stream",
     "text": [
      "Welcome to Ubuntu 16.04.1 LTS (GNU/Linux 4.4.0-91-generic x86_64)\n",
      "\n",
      " * Documentation:  https://help.ubuntu.com\n",
      " * Management:     https://landscape.canonical.com\n",
      " * Support:        https://ubuntu.com/advantage\n",
      "\n",
      "*** System restart required ***\n",
      "Last login: Tue Mar 27 07:44:16 2018 from 70.36.63.98\n",
      "\u001b]0;ubuntu@VM-229-235-ubuntu: ~\u0007\u001b[01;32mubuntu@VM-229-235-ubuntu\u001b[00m:\u001b[01;34m~\u001b[00m$ cd node;sudo netstat -nap |grep 443;exit;\n",
      "unix  3      [ ]         STREAM     CONNECTED     3123\u001b[01;31m\u001b[K443\u001b[m\u001b[K  4730/systemd        \n",
      "logout\n",
      "Connection to 123.207.221.180 closed.\n"
     ]
    }
   ],
   "source": [
    "!echo \"cd node;\\\n",
    "sudo netstat -nap |grep 443;\\\n",
    "exit;\\\n",
    "\"|ssh -tti /Users/cwang/temp/holygg ubuntu@123.207.221.180 "
   ]
  },
  {
   "cell_type": "code",
   "execution_count": 47,
   "metadata": {},
   "outputs": [
    {
     "name": "stdout",
     "output_type": "stream",
     "text": [
      "<xml><ToUserName><![CDATA[oIIy1t9lPOfnGLlclJaRQZqZJWuk]]></ToUserName><FromUserName><![CDATA[gh_811891b39f33]]></FromUserName><CreateTime>1522198975249</CreateTime><MsgType><![CDATA[text]]></MsgType><Content><![CDATA[happily \r\n",
      "happily的词根\r\n",
      "happy a. 快乐的, 幸福的, 愉快的, 恰当的\r\n",
      "happy的词根\r\n",
      "hap- = chance, 表示“机会，运气”，来源于古挪威语。\r\n",
      "-y 表形容词，加在名词后变成形容词。\r\n",
      "-ly 表副词，通常放在形容词后。\r\n",
      "]]></Content></xml>"
     ]
    }
   ],
   "source": [
    "!curl -k -X POST -H 'Content-Type: application/json' -d '{\"username\":\"davidwalsh\",\"password\":\"something\"}' https://localhost:443/wechat"
   ]
  },
  {
   "cell_type": "code",
   "execution_count": null,
   "metadata": {},
   "outputs": [],
   "source": []
  }
 ],
 "metadata": {
  "kernelspec": {
   "display_name": "Python 3",
   "language": "python",
   "name": "python3"
  },
  "language_info": {
   "codemirror_mode": {
    "name": "ipython",
    "version": 3
   },
   "file_extension": ".py",
   "mimetype": "text/x-python",
   "name": "python",
   "nbconvert_exporter": "python",
   "pygments_lexer": "ipython3",
   "version": "3.6.4"
  }
 },
 "nbformat": 4,
 "nbformat_minor": 2
}
