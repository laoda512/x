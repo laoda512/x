{
 "cells": [
  {
   "cell_type": "code",
   "execution_count": 3,
   "metadata": {},
   "outputs": [
    {
     "name": "stdout",
     "output_type": "stream",
     "text": [
      "key_load_public: invalid format\n",
      "Welcome to Ubuntu 16.04.1 LTS (GNU/Linux 4.4.0-91-generic x86_64)\n",
      "\n",
      " * Documentation:  https://help.ubuntu.com\n",
      " * Management:     https://landscape.canonical.com\n",
      " * Support:        https://ubuntu.com/advantage\n",
      "\n",
      "*** System restart required ***\n",
      "Last login: Mon Mar 26 07:16:57 2018 from 207.216.108.7\n",
      "\u001b]0;ubuntu@VM-229-235-ubuntu: ~\u0007\u001b[01;32mubuntu@VM-229-235-ubuntu\u001b[00m:\u001b[01;34m~\u001b[00m$ pwd ; exit;\n",
      "/home/ubuntu\n",
      "logout\n",
      "Connection to 123.207.221.180 closed.\n"
     ]
    }
   ],
   "source": [
    "!echo \"pwd ; \\\n",
    "exit;\\\n",
    "\"|ssh -tti holygg ubuntu@123.207.221.180 "
   ]
  },
  {
   "cell_type": "code",
   "execution_count": 51,
   "metadata": {},
   "outputs": [
    {
     "name": "stdout",
     "output_type": "stream",
     "text": [
      "test.gif                                      100%   95KB  47.5KB/s   00:02    \n",
      "timg.jpg                                      100%   15KB  29.3KB/s   00:00    \n",
      "ca-crt.srl                                    100%   17     0.0KB/s   00:00    \n",
      "ca-key.pem                                    100% 3394     8.1KB/s   00:00    \n",
      "ca.cnf                                        100%  725     2.2KB/s   00:00    \n",
      "server-csr.pem                                100% 1777     5.4KB/s   00:00    \n",
      "server-crt.pem                                100% 1984     4.7KB/s   00:00    \n",
      "server-key.pem                                100% 3243     7.7KB/s   00:00    \n",
      "server.cnf                                    100%  678     1.6KB/s   00:00    \n",
      "ca-crt.pem                                    100% 1968     6.0KB/s   00:00    \n",
      "^C\n"
     ]
    }
   ],
   "source": [
    "!scp -r -i holygg . ubuntu@123.207.221.180:."
   ]
  },
  {
   "cell_type": "code",
   "execution_count": 68,
   "metadata": {},
   "outputs": [
    {
     "name": "stdout",
     "output_type": "stream",
     "text": [
      "building file list ... \n",
      "306 files to consider\n",
      "./\n",
      "node.ipynb\n",
      "       12115 100%   10.89MB/s    0:00:00 (xfer#1, to-check=295/306)\n",
      "redis_log\n",
      "     2953933 100%  104.34MB/s    0:00:00 (xfer#2, to-check=291/306)\n",
      ".git/\n",
      ".idea/\n",
      ".idea/workspace.xml\n",
      "       40264 100%    1.37MB/s    0:00:00 (xfer#3, to-check=43/306)\n",
      "src/\n",
      "src/petDemo.js\n",
      "        7508 100%  261.86kB/s    0:00:00 (xfer#4, to-check=20/306)\n",
      "\n",
      "sent 22711 bytes  received 11010 bytes  4496.13 bytes/sec\n",
      "total size is 18571783  speedup is 550.75\n"
     ]
    }
   ],
   "source": [
    "!rsync -Pavu --exclude node_storage --exclude node_modules -e \"ssh -i ./holygg\" . ubuntu@123.207.221.180:~/node"
   ]
  },
  {
   "cell_type": "code",
   "execution_count": 19,
   "metadata": {},
   "outputs": [
    {
     "name": "stdout",
     "output_type": "stream",
     "text": [
      "Warning: Identity file /Users/cwang/temp/holygg not accessible: No such file or directory.\n",
      "ubuntu@123.207.221.180's password: \n"
     ]
    }
   ],
   "source": [
    "!echo \"pwd ; \\\n",
    "cd node ;\\\n",
    "sudo apt-get -y install nodejs ;\\\n",
    "sudo apt -y install npm ;\\\n",
    "sudo make init ;\\\n",
    "exit;\\\n",
    "\"|ssh -tti /Users/cwang/temp/holygg ubuntu@123.207.221.180 "
   ]
  },
  {
   "cell_type": "code",
   "execution_count": 25,
   "metadata": {},
   "outputs": [
    {
     "name": "stdout",
     "output_type": "stream",
     "text": [
      "Welcome to Ubuntu 16.04.1 LTS (GNU/Linux 4.4.0-91-generic x86_64)\n",
      "\n",
      " * Documentation:  https://help.ubuntu.com\n",
      " * Management:     https://landscape.canonical.com\n",
      " * Support:        https://ubuntu.com/advantage\n",
      "\n",
      "*** System restart required ***\n",
      "Last login: Tue Mar 20 09:58:47 2018 from 207.216.108.7\n",
      "\u001b]0;ubuntu@VM-229-235-ubuntu: ~\u0007\u001b[01;32mubuntu@VM-229-235-ubuntu\u001b[00m:\u001b[01;34m~\u001b[00m$ pwd ; cd node ;sudo make start_redis ;exit;\n",
      "/home/ubuntu\n",
      "docker run  --rm \\\n",
      "-p 6379:6379 \\\n",
      "-v /home/ubuntu/node/node_storage/redis:/data \\\n",
      "-v /home/ubuntu/node/redis.conf:/usr/local/etc/redis/redis.conf \\\n",
      "--name redis1 redis \\\n",
      "redis-server /usr/local/etc/redis/redis.conf &>> redis_log\n",
      "logout\n",
      "Connection to 123.207.221.180 closed.\n"
     ]
    }
   ],
   "source": [
    "!echo \"pwd ; \\\n",
    "cd node ;\\\n",
    "sudo make start_redis ;\\\n",
    "exit;\\\n",
    "\"|ssh -tti /Users/cwang/temp/holygg ubuntu@123.207.221.180 "
   ]
  },
  {
   "cell_type": "code",
   "execution_count": 29,
   "metadata": {
    "scrolled": true
   },
   "outputs": [
    {
     "name": "stdout",
     "output_type": "stream",
     "text": [
      "Welcome to Ubuntu 16.04.1 LTS (GNU/Linux 4.4.0-91-generic x86_64)\n",
      "\n",
      " * Documentation:  https://help.ubuntu.com\n",
      " * Management:     https://landscape.canonical.com\n",
      " * Support:        https://ubuntu.com/advantage\n",
      "\n",
      "*** System restart required ***\n",
      "Last login: Tue Mar 20 11:32:53 2018 from 207.216.108.7\n",
      "\u001b[A;ubuntu@VM-229-235-ubuntu: ~\u0007\u001b[01;32mubuntu@VM-229-235-ubuntu\u001b[00m:\u001b[01;34m~\u001b[00m$ pwd ; ls ;cd node;sudo forever start server.js;exit; \n",
      "/home/ubuntu\n",
      "\u001b[0m\u001b[01;34mangel\u001b[0m  \u001b[01;32mdocker-compose\u001b[0m   ignite-docker-compose.yml  \u001b[01;34mnode\u001b[0m\n",
      "\u001b[01;34mdata\u001b[0m   \u001b[01;32mdocker-compose1\u001b[0m  \u001b[01;31mio.tar.gz\u001b[0m\n",
      "\u001b[33mwarn\u001b[39m:    --minUptime not set. Defaulting to: 1000ms\n",
      "\u001b[33mwarn\u001b[39m:    --spinSleepTime not set. Your script will exit if it does not stay up for at least 1000ms\n",
      "\u001b[32minfo\u001b[39m:    Forever processing file: \u001b[90mserver.js\u001b[39m\n",
      "logout\n",
      "Connection to 123.207.221.180 closed.\n"
     ]
    }
   ],
   "source": [
    "!echo \"pwd ; \\\n",
    "ls ;\\\n",
    "cd node;\\\n",
    "sudo forever start server.js;\\\n",
    "exit;\\\n",
    "\"|ssh -tti /Users/cwang/temp/holygg ubuntu@123.207.221.180 "
   ]
  },
  {
   "cell_type": "code",
   "execution_count": 53,
   "metadata": {},
   "outputs": [
    {
     "name": "stdout",
     "output_type": "stream",
     "text": [
      "Welcome to Ubuntu 16.04.1 LTS (GNU/Linux 4.4.0-91-generic x86_64)\n",
      "\n",
      " * Documentation:  https://help.ubuntu.com\n",
      " * Management:     https://landscape.canonical.com\n",
      " * Support:        https://ubuntu.com/advantage\n",
      "\n",
      "*** System restart required ***\n",
      "Last login: Wed Mar 21 08:23:20 2018 from 70.36.63.98\n",
      "\u001b]0;ubuntu@VM-229-235-ubuntu: ~\u0007\u001b[01;32mubuntu@VM-229-235-ubuntu\u001b[00m:\u001b[01;34m~\u001b[00m$ pwd ; ls ;cd node;sudo forever stopall ;exit;\n",
      "/home/ubuntu\n",
      "\u001b[0m\u001b[01;34mangel\u001b[0m  \u001b[01;32mdocker-compose\u001b[0m   ignite-docker-compose.yml  \u001b[01;34mnode\u001b[0m\n",
      "\u001b[01;34mdata\u001b[0m   \u001b[01;32mdocker-compose1\u001b[0m  \u001b[01;31mio.tar.gz\u001b[0m\n",
      "\u001b[32minfo\u001b[39m:    No forever processes running\n",
      "logout\n",
      "Connection to 123.207.221.180 closed.\n"
     ]
    }
   ],
   "source": [
    "!echo \"pwd ; \\\n",
    "ls ;\\\n",
    "cd node;\\\n",
    "sudo forever stopall ;\\\n",
    "exit;\\\n",
    "\"|ssh -tti /Users/cwang/temp/holygg ubuntu@123.207.221.180 "
   ]
  },
  {
   "cell_type": "code",
   "execution_count": 45,
   "metadata": {
    "scrolled": true
   },
   "outputs": [
    {
     "name": "stdout",
     "output_type": "stream",
     "text": [
      "Welcome to Ubuntu 16.04.1 LTS (GNU/Linux 4.4.0-91-generic x86_64)\n",
      "\n",
      " * Documentation:  https://help.ubuntu.com\n",
      " * Management:     https://landscape.canonical.com\n",
      " * Support:        https://ubuntu.com/advantage\n",
      "\n",
      "*** System restart required ***\n",
      "Last login: Wed Mar 21 00:57:03 2018 from 70.36.63.98\n",
      "og -o out.log -e er35-ubuntu: ~\u0007\u001b[01;32mubuntu@VM-229-235-ubuntu\u001b[00m:\u001b[01;34m~\u001b[00m$ pwd ; ls ;cd node;sudo forever start -a -l forever.l r.log server.js ;exit;\n",
      "/home/ubuntu\n",
      "\u001b[0m\u001b[01;34mangel\u001b[0m  \u001b[01;32mdocker-compose\u001b[0m   ignite-docker-compose.yml  \u001b[01;34mnode\u001b[0m\n",
      "\u001b[01;34mdata\u001b[0m   \u001b[01;32mdocker-compose1\u001b[0m  \u001b[01;31mio.tar.gz\u001b[0m\n",
      "\u001b[33mwarn\u001b[39m:    --minUptime not set. Defaulting to: 1000ms\n",
      "\u001b[33mwarn\u001b[39m:    --spinSleepTime not set. Your script will exit if it does not stay up for at least 1000ms\n",
      "\u001b[32minfo\u001b[39m:    Forever processing file: \u001b[90mserver.js\u001b[39m\n",
      "logout\n",
      "Connection to 123.207.221.180 closed.\n"
     ]
    }
   ],
   "source": [
    "!echo \"pwd ; \\\n",
    "ls ;\\\n",
    "cd node;\\\n",
    "sudo forever start -a -l forever.log -o out.log -e err.log server.js ;\\\n",
    "exit;\\\n",
    "\"|ssh -tti /Users/cwang/temp/holygg ubuntu@123.207.221.180 "
   ]
  },
  {
   "cell_type": "code",
   "execution_count": 48,
   "metadata": {},
   "outputs": [
    {
     "name": "stdout",
     "output_type": "stream",
     "text": [
      "{\"errcode\":40001,\"errmsg\":\"invalid credential, access_token is invalid or not latest hint: [EBLUGa0131k610!]\"}"
     ]
    }
   ],
   "source": [
    "!curl -F media=test.png \"https://api.weixin.qq.com/cgi-bin/media/uploadimg?access_token=oj3bmyaxodgrxdkimbbohhgb2j1kfrgs\"\n",
    "\n"
   ]
  },
  {
   "cell_type": "code",
   "execution_count": 10,
   "metadata": {
    "scrolled": true
   },
   "outputs": [
    {
     "name": "stdout",
     "output_type": "stream",
     "text": [
      "Welcome to Ubuntu 16.04.1 LTS (GNU/Linux 4.4.0-91-generic x86_64)\n",
      "\n",
      " * Documentation:  https://help.ubuntu.com\n",
      " * Management:     https://landscape.canonical.com\n",
      " * Support:        https://ubuntu.com/advantage\n",
      "\n",
      "*** System restart required ***\n",
      "Last login: Tue Mar 27 07:44:16 2018 from 70.36.63.98\n",
      "\u001b]0;ubuntu@VM-229-235-ubuntu: ~\u0007\u001b[01;32mubuntu@VM-229-235-ubuntu\u001b[00m:\u001b[01;34m~\u001b[00m$ cd node;sudo netstat -nap |grep 443;exit;\n",
      "unix  3      [ ]         STREAM     CONNECTED     3123\u001b[01;31m\u001b[K443\u001b[m\u001b[K  4730/systemd        \n",
      "logout\n",
      "Connection to 123.207.221.180 closed.\n"
     ]
    }
   ],
   "source": [
    "!echo \"cd node;\\\n",
    "sudo netstat -nap |grep 443;\\\n",
    "exit;\\\n",
    "\"|ssh -tti /Users/cwang/temp/holygg ubuntu@123.207.221.180 "
   ]
  },
  {
   "cell_type": "code",
   "execution_count": 47,
   "metadata": {},
   "outputs": [
    {
     "name": "stdout",
     "output_type": "stream",
     "text": [
      "<xml><ToUserName><![CDATA[oIIy1t9lPOfnGLlclJaRQZqZJWuk]]></ToUserName><FromUserName><![CDATA[gh_811891b39f33]]></FromUserName><CreateTime>1522198975249</CreateTime><MsgType><![CDATA[text]]></MsgType><Content><![CDATA[happily \r\n",
      "happily的词根\r\n",
      "happy a. 快乐的, 幸福的, 愉快的, 恰当的\r\n",
      "happy的词根\r\n",
      "hap- = chance, 表示“机会，运气”，来源于古挪威语。\r\n",
      "-y 表形容词，加在名词后变成形容词。\r\n",
      "-ly 表副词，通常放在形容词后。\r\n",
      "]]></Content></xml>"
     ]
    }
   ],
   "source": [
    "!curl -k -X POST -H 'Content-Type: application/json' -d '{\"username\":\"davidwalsh\",\"password\":\"something\"}' https://localhost:443/wechat"
   ]
  },
  {
   "cell_type": "code",
   "execution_count": 3,
   "metadata": {},
   "outputs": [
    {
     "name": "stdout",
     "output_type": "stream",
     "text": [
      "docker run --rm -i \\\r\n",
      "-v /home/jovyan/work/git/x:/phantomjs/script/all \\\r\n",
      "-v /home/jovyan/work/git/x/result:/phantomjs/script/result \\\r\n",
      "-v /home/jovyan/work/git/x/phantomjs:/phantomjs/script/phantomjs \\\r\n",
      "--name  \\\r\n",
      "slimerjs_x:0.0.1 /bin/bash -c \" \\\r\n",
      "slimerjs \\\r\n",
      "/phantomjs/script/phantomjs/untitled.js http://www.dicts.cn/dict/dict/dict!searchhtml3.asp?id= /phantomjs/script/result/test2.png   \t\"\r\n",
      "/bin/sh: 1: docker: not found\r\n",
      "Makefile:17: recipe for target 'capture' failed\r\n",
      "make: *** [capture] Error 127\r\n"
     ]
    }
   ],
   "source": [
    "!make capture\n"
   ]
  },
  {
   "cell_type": "code",
   "execution_count": 4,
   "metadata": {},
   "outputs": [
    {
     "name": "stdout",
     "output_type": "stream",
     "text": [
      "/bin/sh: 1: docker: not found\r\n"
     ]
    }
   ],
   "source": [
    "!docker build -t slimerjs_x:0.0.1 ."
   ]
  },
  {
   "cell_type": "code",
   "execution_count": null,
   "metadata": {},
   "outputs": [],
   "source": []
  }
 ],
 "metadata": {
  "kernelspec": {
   "display_name": "Python 3",
   "language": "python",
   "name": "python3"
  },
  "language_info": {
   "codemirror_mode": {
    "name": "ipython",
    "version": 3
   },
   "file_extension": ".py",
   "mimetype": "text/x-python",
   "name": "python",
   "nbconvert_exporter": "python",
   "pygments_lexer": "ipython3",
   "version": "3.6.3"
  }
 },
 "nbformat": 4,
 "nbformat_minor": 2
}
