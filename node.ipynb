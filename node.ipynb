{
 "cells": [
  {
   "cell_type": "code",
   "execution_count": 3,
   "metadata": {},
   "outputs": [
    {
     "name": "stdout",
     "output_type": "stream",
     "text": [
      "key_load_public: invalid format\n",
      "Welcome to Ubuntu 16.04.1 LTS (GNU/Linux 4.4.0-91-generic x86_64)\n",
      "\n",
      " * Documentation:  https://help.ubuntu.com\n",
      " * Management:     https://landscape.canonical.com\n",
      " * Support:        https://ubuntu.com/advantage\n",
      "\n",
      "*** System restart required ***\n",
      "Last login: Mon Mar 26 07:16:57 2018 from 207.216.108.7\n",
      "\u001b]0;ubuntu@VM-229-235-ubuntu: ~\u0007\u001b[01;32mubuntu@VM-229-235-ubuntu\u001b[00m:\u001b[01;34m~\u001b[00m$ pwd ; exit;\n",
      "/home/ubuntu\n",
      "logout\n",
      "Connection to 123.207.221.180 closed.\n"
     ]
    }
   ],
   "source": [
    "!echo \"pwd ; \\\n",
    "exit;\\\n",
    "\"|ssh -tti holygg ubuntu@123.207.221.180 "
   ]
  },
  {
   "cell_type": "code",
   "execution_count": 2,
   "metadata": {},
   "outputs": [
    {
     "name": "stdout",
     "output_type": "stream",
     "text": [
      ".DS_Store                                     100%   16KB  16.0KB/s   00:00    \n",
      "COMMIT_EDITMSG                                100%   17     0.0KB/s   00:00    \n",
      "config                                        100%  303     0.3KB/s   00:00    \n",
      "description                                   100%   73     0.1KB/s   00:00    \n",
      "FETCH_HEAD                                    100%   91     0.1KB/s   00:00    \n",
      "HEAD                                          100%   23     0.0KB/s   00:00    \n",
      "applypatch-msg.sample                         100%  452     0.4KB/s   00:00    \n",
      "commit-msg.sample                             100%  896     0.9KB/s   00:00    \n",
      "post-update.sample                            100%  189     0.2KB/s   00:00    \n",
      "pre-applypatch.sample                         100%  398     0.4KB/s   00:00    \n",
      "pre-commit.sample                             100% 1642     1.6KB/s   00:00    \n",
      "pre-push.sample                               100% 1348     1.3KB/s   00:00    \n",
      "^C\n",
      "Killed by signal 2.\n"
     ]
    }
   ],
   "source": [
    "!scp -r -i holygg . ubuntu@123.207.221.180:."
   ]
  },
  {
   "cell_type": "code",
   "execution_count": 23,
   "metadata": {},
   "outputs": [
    {
     "name": "stdout",
     "output_type": "stream",
     "text": [
      "sending incremental file list\n",
      "./\n",
      "node.ipynb\n",
      "         12,512 100%   11.26MB/s    0:00:00 (xfr#1, ir-chk=1020/1029)\n",
      "package-lock.json\n",
      "        109,717 100%   52.32MB/s    0:00:00 (xfr#2, ir-chk=1019/1029)\n",
      "package.json\n",
      "            540 100%  263.67kB/s    0:00:00 (xfr#3, ir-chk=1018/1029)\n",
      "redis_log\n",
      "        774,207 100%   92.29MB/s    0:00:00 (xfr#4, ir-chk=1016/1029)\n",
      "server.js\n",
      "          4,182 100%  510.50kB/s    0:00:00 (xfr#5, ir-chk=1015/1029)\n",
      ".git/\n",
      ".git/FETCH_HEAD\n",
      "             91 100%    0.41kB/s    0:00:00 (xfr#6, ir-chk=1012/1040)\n",
      ".git/sourcetreeconfig\n",
      "            156 100%    0.71kB/s    0:00:00 (xfr#7, ir-chk=1006/1040)\n",
      ".idea/workspace.xml\n",
      "         40,442 100%  181.17kB/s    0:00:00 (xfr#8, ir-chk=1003/1270)\n",
      "node_modules/\n",
      "node_modules/compression/node_modules/\n",
      "node_modules/cookie-session/node_modules/\n",
      "node_modules/crc/\n",
      "node_modules/crc/package.json\n",
      "          1,680 100%    1.30kB/s    0:00:01 (xfr#9, ir-chk=1002/2046)\n",
      "node_modules/crc/lib/\n",
      "node_modules/express-session/\n",
      "node_modules/express-session/package.json\n",
      "          2,553 100%    1.94kB/s    0:00:01 (xfr#10, ir-chk=1005/2293)\n",
      "node_modules/express-session/node_modules/\n",
      "node_modules/express-session/node_modules/debug/\n",
      "node_modules/express-session/node_modules/debug/package.json\n",
      "          2,189 100%    1.66kB/s    0:00:01 (xfr#11, ir-chk=1002/2306)\n",
      "node_modules/express-session/node_modules/debug/src/\n",
      "node_modules/express-session/node_modules/utils-merge/\n",
      "node_modules/express-session/node_modules/utils-merge/package.json\n",
      "          1,692 100%    1.28kB/s    0:00:01 (xfr#12, ir-chk=1001/2316)\n",
      "node_modules/express-session/session/\n",
      "node_modules/express/node_modules/\n",
      "node_modules/random-bytes/\n",
      "node_modules/random-bytes/package.json\n",
      "          1,959 100%    0.00kB/s    0:00:00 (xfr#13, to-chk=642/5639)\n",
      "node_modules/uid-safe/\n",
      "node_modules/uid-safe/package.json\n",
      "          2,363 100%    2.25MB/s    0:00:00 (xfr#14, to-chk=269/5639)\n",
      "src/\n",
      "src/demoServer.js\n",
      "          7,369 100%    7.03MB/s    0:00:00 (xfr#15, to-chk=14/5639)\n",
      "\n",
      "sent 261,880 bytes  received 8,127 bytes  36,000.93 bytes/sec\n",
      "total size is 805,814,035  speedup is 2,984.42\n"
     ]
    }
   ],
   "source": [
    "!rsync -Pavu --exclude node_storage -e \"ssh -i ./holygg\" . ubuntu@123.207.221.180:~/node"
   ]
  },
  {
   "cell_type": "code",
   "execution_count": 19,
   "metadata": {},
   "outputs": [
    {
     "name": "stdout",
     "output_type": "stream",
     "text": [
      "Warning: Identity file /Users/cwang/temp/holygg not accessible: No such file or directory.\n",
      "ubuntu@123.207.221.180's password: \n"
     ]
    }
   ],
   "source": [
    "!echo \"pwd ; \\\n",
    "cd node ;\\\n",
    "sudo apt-get -y install nodejs ;\\\n",
    "sudo apt -y install npm ;\\\n",
    "sudo make init ;\\\n",
    "exit;\\\n",
    "\"|ssh -tti /Users/cwang/temp/holygg ubuntu@123.207.221.180 "
   ]
  },
  {
   "cell_type": "code",
   "execution_count": 25,
   "metadata": {},
   "outputs": [
    {
     "name": "stdout",
     "output_type": "stream",
     "text": [
      "Welcome to Ubuntu 16.04.1 LTS (GNU/Linux 4.4.0-91-generic x86_64)\n",
      "\n",
      " * Documentation:  https://help.ubuntu.com\n",
      " * Management:     https://landscape.canonical.com\n",
      " * Support:        https://ubuntu.com/advantage\n",
      "\n",
      "*** System restart required ***\n",
      "Last login: Tue Mar 20 09:58:47 2018 from 207.216.108.7\n",
      "\u001b]0;ubuntu@VM-229-235-ubuntu: ~\u0007\u001b[01;32mubuntu@VM-229-235-ubuntu\u001b[00m:\u001b[01;34m~\u001b[00m$ pwd ; cd node ;sudo make start_redis ;exit;\n",
      "/home/ubuntu\n",
      "docker run  --rm \\\n",
      "-p 6379:6379 \\\n",
      "-v /home/ubuntu/node/node_storage/redis:/data \\\n",
      "-v /home/ubuntu/node/redis.conf:/usr/local/etc/redis/redis.conf \\\n",
      "--name redis1 redis \\\n",
      "redis-server /usr/local/etc/redis/redis.conf &>> redis_log\n",
      "logout\n",
      "Connection to 123.207.221.180 closed.\n"
     ]
    }
   ],
   "source": [
    "!echo \"pwd ; \\\n",
    "cd node ;\\\n",
    "sudo make start_redis ;\\\n",
    "exit;\\\n",
    "\"|ssh -tti /Users/cwang/temp/holygg ubuntu@123.207.221.180 "
   ]
  },
  {
   "cell_type": "code",
   "execution_count": 29,
   "metadata": {
    "scrolled": true
   },
   "outputs": [
    {
     "name": "stdout",
     "output_type": "stream",
     "text": [
      "Welcome to Ubuntu 16.04.1 LTS (GNU/Linux 4.4.0-91-generic x86_64)\n",
      "\n",
      " * Documentation:  https://help.ubuntu.com\n",
      " * Management:     https://landscape.canonical.com\n",
      " * Support:        https://ubuntu.com/advantage\n",
      "\n",
      "*** System restart required ***\n",
      "Last login: Tue Mar 20 11:32:53 2018 from 207.216.108.7\n",
      "\u001b[A;ubuntu@VM-229-235-ubuntu: ~\u0007\u001b[01;32mubuntu@VM-229-235-ubuntu\u001b[00m:\u001b[01;34m~\u001b[00m$ pwd ; ls ;cd node;sudo forever start server.js;exit; \n",
      "/home/ubuntu\n",
      "\u001b[0m\u001b[01;34mangel\u001b[0m  \u001b[01;32mdocker-compose\u001b[0m   ignite-docker-compose.yml  \u001b[01;34mnode\u001b[0m\n",
      "\u001b[01;34mdata\u001b[0m   \u001b[01;32mdocker-compose1\u001b[0m  \u001b[01;31mio.tar.gz\u001b[0m\n",
      "\u001b[33mwarn\u001b[39m:    --minUptime not set. Defaulting to: 1000ms\n",
      "\u001b[33mwarn\u001b[39m:    --spinSleepTime not set. Your script will exit if it does not stay up for at least 1000ms\n",
      "\u001b[32minfo\u001b[39m:    Forever processing file: \u001b[90mserver.js\u001b[39m\n",
      "logout\n",
      "Connection to 123.207.221.180 closed.\n"
     ]
    }
   ],
   "source": [
    "!echo \"pwd ; \\\n",
    "ls ;\\\n",
    "cd node;\\\n",
    "sudo forever start server.js;\\\n",
    "exit;\\\n",
    "\"|ssh -tti /Users/cwang/temp/holygg ubuntu@123.207.221.180 "
   ]
  },
  {
   "cell_type": "code",
   "execution_count": 53,
   "metadata": {},
   "outputs": [
    {
     "name": "stdout",
     "output_type": "stream",
     "text": [
      "Welcome to Ubuntu 16.04.1 LTS (GNU/Linux 4.4.0-91-generic x86_64)\n",
      "\n",
      " * Documentation:  https://help.ubuntu.com\n",
      " * Management:     https://landscape.canonical.com\n",
      " * Support:        https://ubuntu.com/advantage\n",
      "\n",
      "*** System restart required ***\n",
      "Last login: Wed Mar 21 08:23:20 2018 from 70.36.63.98\n",
      "\u001b]0;ubuntu@VM-229-235-ubuntu: ~\u0007\u001b[01;32mubuntu@VM-229-235-ubuntu\u001b[00m:\u001b[01;34m~\u001b[00m$ pwd ; ls ;cd node;sudo forever stopall ;exit;\n",
      "/home/ubuntu\n",
      "\u001b[0m\u001b[01;34mangel\u001b[0m  \u001b[01;32mdocker-compose\u001b[0m   ignite-docker-compose.yml  \u001b[01;34mnode\u001b[0m\n",
      "\u001b[01;34mdata\u001b[0m   \u001b[01;32mdocker-compose1\u001b[0m  \u001b[01;31mio.tar.gz\u001b[0m\n",
      "\u001b[32minfo\u001b[39m:    No forever processes running\n",
      "logout\n",
      "Connection to 123.207.221.180 closed.\n"
     ]
    }
   ],
   "source": [
    "!echo \"pwd ; \\\n",
    "ls ;\\\n",
    "cd node;\\\n",
    "sudo forever stopall ;\\\n",
    "exit;\\\n",
    "\"|ssh -tti /Users/cwang/temp/holygg ubuntu@123.207.221.180 "
   ]
  },
  {
   "cell_type": "code",
   "execution_count": 45,
   "metadata": {
    "scrolled": true
   },
   "outputs": [
    {
     "name": "stdout",
     "output_type": "stream",
     "text": [
      "Welcome to Ubuntu 16.04.1 LTS (GNU/Linux 4.4.0-91-generic x86_64)\n",
      "\n",
      " * Documentation:  https://help.ubuntu.com\n",
      " * Management:     https://landscape.canonical.com\n",
      " * Support:        https://ubuntu.com/advantage\n",
      "\n",
      "*** System restart required ***\n",
      "Last login: Wed Mar 21 00:57:03 2018 from 70.36.63.98\n",
      "og -o out.log -e er35-ubuntu: ~\u0007\u001b[01;32mubuntu@VM-229-235-ubuntu\u001b[00m:\u001b[01;34m~\u001b[00m$ pwd ; ls ;cd node;sudo forever start -a -l forever.l r.log server.js ;exit;\n",
      "/home/ubuntu\n",
      "\u001b[0m\u001b[01;34mangel\u001b[0m  \u001b[01;32mdocker-compose\u001b[0m   ignite-docker-compose.yml  \u001b[01;34mnode\u001b[0m\n",
      "\u001b[01;34mdata\u001b[0m   \u001b[01;32mdocker-compose1\u001b[0m  \u001b[01;31mio.tar.gz\u001b[0m\n",
      "\u001b[33mwarn\u001b[39m:    --minUptime not set. Defaulting to: 1000ms\n",
      "\u001b[33mwarn\u001b[39m:    --spinSleepTime not set. Your script will exit if it does not stay up for at least 1000ms\n",
      "\u001b[32minfo\u001b[39m:    Forever processing file: \u001b[90mserver.js\u001b[39m\n",
      "logout\n",
      "Connection to 123.207.221.180 closed.\n"
     ]
    }
   ],
   "source": [
    "!echo \"pwd ; \\\n",
    "ls ;\\\n",
    "cd node;\\\n",
    "sudo forever start -a -l forever.log -o out.log -e err.log server.js ;\\\n",
    "exit;\\\n",
    "\"|ssh -tti /Users/cwang/temp/holygg ubuntu@123.207.221.180 "
   ]
  },
  {
   "cell_type": "code",
   "execution_count": 48,
   "metadata": {},
   "outputs": [
    {
     "name": "stdout",
     "output_type": "stream",
     "text": [
      "{\"errcode\":40001,\"errmsg\":\"invalid credential, access_token is invalid or not latest hint: [EBLUGa0131k610!]\"}"
     ]
    }
   ],
   "source": [
    "!curl -F media=test.png \"https://api.weixin.qq.com/cgi-bin/media/uploadimg?access_token=oj3bmyaxodgrxdkimbbohhgb2j1kfrgs\"\n",
    "\n"
   ]
  },
  {
   "cell_type": "code",
   "execution_count": 10,
   "metadata": {
    "scrolled": true
   },
   "outputs": [
    {
     "name": "stdout",
     "output_type": "stream",
     "text": [
      "Welcome to Ubuntu 16.04.1 LTS (GNU/Linux 4.4.0-91-generic x86_64)\n",
      "\n",
      " * Documentation:  https://help.ubuntu.com\n",
      " * Management:     https://landscape.canonical.com\n",
      " * Support:        https://ubuntu.com/advantage\n",
      "\n",
      "*** System restart required ***\n",
      "Last login: Tue Mar 27 07:44:16 2018 from 70.36.63.98\n",
      "\u001b]0;ubuntu@VM-229-235-ubuntu: ~\u0007\u001b[01;32mubuntu@VM-229-235-ubuntu\u001b[00m:\u001b[01;34m~\u001b[00m$ cd node;sudo netstat -nap |grep 443;exit;\n",
      "unix  3      [ ]         STREAM     CONNECTED     3123\u001b[01;31m\u001b[K443\u001b[m\u001b[K  4730/systemd        \n",
      "logout\n",
      "Connection to 123.207.221.180 closed.\n"
     ]
    }
   ],
   "source": [
    "!echo \"cd node;\\\n",
    "sudo netstat -nap |grep 443;\\\n",
    "exit;\\\n",
    "\"|ssh -tti /Users/cwang/temp/holygg ubuntu@123.207.221.180 "
   ]
  },
  {
   "cell_type": "code",
   "execution_count": 5,
   "metadata": {},
   "outputs": [
    {
     "name": "stdout",
     "output_type": "stream",
     "text": [
      "<xml><ToUserName><![CDATA[oIIy1t9lPOfnGLlclJaRQZqZJWuk]]></ToUserName><FromUserName><![CDATA[gh_811891b39f33]]></FromUserName><CreateTime>1522206976615</CreateTime><MsgType><![CDATA[text]]></MsgType><Content><![CDATA[happily \r\n",
      "happily的词根\r\n",
      "happy a. 快乐的, 幸福的, 愉快的, 恰当的\r\n",
      "happy的词根\r\n",
      "hap- = chance, 表示“机会，运气”，来源于古挪威语。\r\n",
      "-y 表形容词，加在名词后变成形容词。\r\n",
      "-ly 表副词，通常放在形容词后。\r\n",
      "]]></Content></xml>"
     ]
    }
   ],
   "source": [
    "!curl -k -X POST -H 'Content-Type: application/json' -d \\\n",
    "'{\"Content\":\"/::)happily\"}' \\\n",
    "https://localhost:443/wechat"
   ]
  },
  {
   "cell_type": "code",
   "execution_count": null,
   "metadata": {
    "collapsed": true
   },
   "outputs": [],
   "source": []
  }
 ],
 "metadata": {
  "kernelspec": {
   "display_name": "Python 2",
   "language": "python",
   "name": "python2"
  },
  "language_info": {
   "codemirror_mode": {
    "name": "ipython",
    "version": 2
   },
   "file_extension": ".py",
   "mimetype": "text/x-python",
   "name": "python",
   "nbconvert_exporter": "python",
   "pygments_lexer": "ipython2",
   "version": "2.7.14"
  }
 },
 "nbformat": 4,
 "nbformat_minor": 2
}
